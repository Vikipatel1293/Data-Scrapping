{
 "cells": [
  {
   "cell_type": "markdown",
   "metadata": {},
   "source": [
    "Hi there!! viki patel here\n",
    "<br>\n",
    "this is just a basic scrapping code which helps you to understand the concept of data scrapping using APIs.\n",
    "<br>\n",
    "In this example, we are scraping data of stock market using Alpha Vantage API which provides free limited access.\n",
    "<br>\n",
    "you can use it as your reference or add more features according to your requirement.\n",
    "<br>\n",
    "Happy coding!!!\n",
    "<br>\n"
   ]
  },
  {
   "cell_type": "code",
   "execution_count": 38,
   "metadata": {},
   "outputs": [],
   "source": [
    "import requests\n",
    "import pandas as pd\n",
    "\n",
    "# Replace 'YOUR_API_KEY' with your actual Alpha Vantage API key\n",
    "api_key = 'YOUR_API_KEY'\n",
    "\n",
    "# Define a list of some stock symbols to fetch details for\n",
    "stock_symbols = ['AAPL', 'GOOGL', 'MSFT', 'AMZN', 'TSLA', 'FB', 'NVDA', 'NFLX', 'AMD', 'SPY']\n",
    "\n",
    "# Define the base URL for Alpha Vantage\n",
    "base_url = 'https://www.alphavantage.co/query?'\n",
    "\n",
    "# Initialize a dictionary to store stock details\n",
    "stock_details = {}\n",
    "\n",
    "# Loop through each stock symbol and fetch details\n",
    "for symbol in stock_symbols:\n",
    "    # Define parameters for the API request\n",
    "    params = {\n",
    "        'function': 'TIME_SERIES_INTRADAY',\n",
    "        'symbol': symbol,\n",
    "        'interval': '5min',  # Adjust the interval as needed\n",
    "        'apikey': api_key\n",
    "    }\n",
    "\n",
    "    # Send the API request\n",
    "    response = requests.get(base_url, params=params)\n",
    "\n",
    "    # Parse the JSON response and store it in the dictionary\n",
    "    data = response.json()\n",
    "    if 'Time Series (5min)' in data:\n",
    "        stock_details[symbol] = data['Time Series (5min)']\n",
    "\n",
    "\n",
    "# Print the stock details (you can further process or save the data)\n",
    "#for symbol, data in stock_details.items():\n",
    " #   print(f\"Stock Symbol: {symbol}\")\n",
    "  # print(\"\\n\")\n",
    "\n",
    "\n",
    "# Loop through each stock symbol and save data to a CSV file\n",
    "for symbol, data in stock_details.items():\n",
    "    # Convert the data to a DataFrame (assuming it contains time series data)\n",
    "    df = pd.DataFrame(data).T\n",
    "\n",
    "    # Add a 'Symbol' column with the current stock symbol\n",
    "    df['Symbol'] = symbol\n",
    "\n",
    "\n",
    "    # Define the file path for saving the CSV\n",
    "    file_path = f'{symbol}_stock_data.csv'\n",
    "\n",
    "    # Save the DataFrame to a CSV file\n",
    "    df.to_csv(file_path)\n"
   ]
  },
  {
   "cell_type": "code",
   "execution_count": null,
   "metadata": {},
   "outputs": [],
   "source": []
  }
 ],
 "metadata": {
  "kernelspec": {
   "display_name": "Python 3.10.9 ('base')",
   "language": "python",
   "name": "python3"
  },
  "language_info": {
   "codemirror_mode": {
    "name": "ipython",
    "version": 3
   },
   "file_extension": ".py",
   "mimetype": "text/x-python",
   "name": "python",
   "nbconvert_exporter": "python",
   "pygments_lexer": "ipython3",
   "version": "3.10.9"
  },
  "orig_nbformat": 4,
  "vscode": {
   "interpreter": {
    "hash": "8c46ac5aaab4d3c9f2f9be91c3b9b95f2b8ede1f4aae554ca1e34eefcba1468b"
   }
  }
 },
 "nbformat": 4,
 "nbformat_minor": 2
}
